{
 "cells": [
  {
   "cell_type": "markdown",
   "metadata": {},
   "source": [
    "پیاده سازی پرسپترون چند لایه (mlp)"
   ]
  },
  {
   "cell_type": "markdown",
   "metadata": {},
   "source": [
    "وارد کردن کتابخانه ها"
   ]
  },
  {
   "cell_type": "code",
   "execution_count": null,
   "metadata": {},
   "outputs": [],
   "source": [
    "from sklearn.datasets import load_iris\n",
    "from sklearn.neural_network import MLPClassifier                    \n",
    "from sklearn.model_selection import train_test_split\n",
    "from sklearn.preprocessing import StandardScaler                       \n",
    "import pandas as pd\n",
    "from sklearn.metrics import confusion_matrix,ConfusionMatrixDisplay           \n",
    "import matplotlib.pyplot as plt"
   ]
  },
  {
   "cell_type": "markdown",
   "metadata": {},
   "source": [
    "وارد کردن داده"
   ]
  },
  {
   "cell_type": "code",
   "execution_count": 2,
   "metadata": {},
   "outputs": [],
   "source": [
    "iris_data= load_iris()\n",
    "# x=pd.DataFrame(iris_data.data,columns=iris_data.feature_names)\n",
    "# y=iris_data.target\n",
    "x,y=iris_data.data,iris_data.target"
   ]
  },
  {
   "cell_type": "code",
   "execution_count": null,
   "metadata": {},
   "outputs": [
    {
     "data": {
      "text/plain": [
       "array(['setosa', 'versicolor', 'virginica'], dtype='<U10')"
      ]
     },
     "execution_count": 3,
     "metadata": {},
     "output_type": "execute_result"
    }
   ],
   "source": [
    "iris_data.target_names                        "
   ]
  },
  {
   "cell_type": "code",
   "execution_count": null,
   "metadata": {},
   "outputs": [
    {
     "data": {
      "text/plain": [
       "(150, 4)"
      ]
     },
     "execution_count": 4,
     "metadata": {},
     "output_type": "execute_result"
    }
   ],
   "source": [
    "x.shape                                     "
   ]
  },
  {
   "cell_type": "code",
   "execution_count": null,
   "metadata": {},
   "outputs": [
    {
     "data": {
      "text/plain": [
       "array([[5.1, 3.5, 1.4, 0.2],\n",
       "       [4.9, 3. , 1.4, 0.2],\n",
       "       [4.7, 3.2, 1.3, 0.2],\n",
       "       [4.6, 3.1, 1.5, 0.2],\n",
       "       [5. , 3.6, 1.4, 0.2],\n",
       "       [5.4, 3.9, 1.7, 0.4],\n",
       "       [4.6, 3.4, 1.4, 0.3],\n",
       "       [5. , 3.4, 1.5, 0.2],\n",
       "       [4.4, 2.9, 1.4, 0.2],\n",
       "       [4.9, 3.1, 1.5, 0.1],\n",
       "       [5.4, 3.7, 1.5, 0.2],\n",
       "       [4.8, 3.4, 1.6, 0.2],\n",
       "       [4.8, 3. , 1.4, 0.1],\n",
       "       [4.3, 3. , 1.1, 0.1],\n",
       "       [5.8, 4. , 1.2, 0.2],\n",
       "       [5.7, 4.4, 1.5, 0.4],\n",
       "       [5.4, 3.9, 1.3, 0.4],\n",
       "       [5.1, 3.5, 1.4, 0.3],\n",
       "       [5.7, 3.8, 1.7, 0.3],\n",
       "       [5.1, 3.8, 1.5, 0.3],\n",
       "       [5.4, 3.4, 1.7, 0.2],\n",
       "       [5.1, 3.7, 1.5, 0.4],\n",
       "       [4.6, 3.6, 1. , 0.2],\n",
       "       [5.1, 3.3, 1.7, 0.5],\n",
       "       [4.8, 3.4, 1.9, 0.2],\n",
       "       [5. , 3. , 1.6, 0.2],\n",
       "       [5. , 3.4, 1.6, 0.4],\n",
       "       [5.2, 3.5, 1.5, 0.2],\n",
       "       [5.2, 3.4, 1.4, 0.2],\n",
       "       [4.7, 3.2, 1.6, 0.2],\n",
       "       [4.8, 3.1, 1.6, 0.2],\n",
       "       [5.4, 3.4, 1.5, 0.4],\n",
       "       [5.2, 4.1, 1.5, 0.1],\n",
       "       [5.5, 4.2, 1.4, 0.2],\n",
       "       [4.9, 3.1, 1.5, 0.2],\n",
       "       [5. , 3.2, 1.2, 0.2],\n",
       "       [5.5, 3.5, 1.3, 0.2],\n",
       "       [4.9, 3.6, 1.4, 0.1],\n",
       "       [4.4, 3. , 1.3, 0.2],\n",
       "       [5.1, 3.4, 1.5, 0.2],\n",
       "       [5. , 3.5, 1.3, 0.3],\n",
       "       [4.5, 2.3, 1.3, 0.3],\n",
       "       [4.4, 3.2, 1.3, 0.2],\n",
       "       [5. , 3.5, 1.6, 0.6],\n",
       "       [5.1, 3.8, 1.9, 0.4],\n",
       "       [4.8, 3. , 1.4, 0.3],\n",
       "       [5.1, 3.8, 1.6, 0.2],\n",
       "       [4.6, 3.2, 1.4, 0.2],\n",
       "       [5.3, 3.7, 1.5, 0.2],\n",
       "       [5. , 3.3, 1.4, 0.2],\n",
       "       [7. , 3.2, 4.7, 1.4],\n",
       "       [6.4, 3.2, 4.5, 1.5],\n",
       "       [6.9, 3.1, 4.9, 1.5],\n",
       "       [5.5, 2.3, 4. , 1.3],\n",
       "       [6.5, 2.8, 4.6, 1.5],\n",
       "       [5.7, 2.8, 4.5, 1.3],\n",
       "       [6.3, 3.3, 4.7, 1.6],\n",
       "       [4.9, 2.4, 3.3, 1. ],\n",
       "       [6.6, 2.9, 4.6, 1.3],\n",
       "       [5.2, 2.7, 3.9, 1.4],\n",
       "       [5. , 2. , 3.5, 1. ],\n",
       "       [5.9, 3. , 4.2, 1.5],\n",
       "       [6. , 2.2, 4. , 1. ],\n",
       "       [6.1, 2.9, 4.7, 1.4],\n",
       "       [5.6, 2.9, 3.6, 1.3],\n",
       "       [6.7, 3.1, 4.4, 1.4],\n",
       "       [5.6, 3. , 4.5, 1.5],\n",
       "       [5.8, 2.7, 4.1, 1. ],\n",
       "       [6.2, 2.2, 4.5, 1.5],\n",
       "       [5.6, 2.5, 3.9, 1.1],\n",
       "       [5.9, 3.2, 4.8, 1.8],\n",
       "       [6.1, 2.8, 4. , 1.3],\n",
       "       [6.3, 2.5, 4.9, 1.5],\n",
       "       [6.1, 2.8, 4.7, 1.2],\n",
       "       [6.4, 2.9, 4.3, 1.3],\n",
       "       [6.6, 3. , 4.4, 1.4],\n",
       "       [6.8, 2.8, 4.8, 1.4],\n",
       "       [6.7, 3. , 5. , 1.7],\n",
       "       [6. , 2.9, 4.5, 1.5],\n",
       "       [5.7, 2.6, 3.5, 1. ],\n",
       "       [5.5, 2.4, 3.8, 1.1],\n",
       "       [5.5, 2.4, 3.7, 1. ],\n",
       "       [5.8, 2.7, 3.9, 1.2],\n",
       "       [6. , 2.7, 5.1, 1.6],\n",
       "       [5.4, 3. , 4.5, 1.5],\n",
       "       [6. , 3.4, 4.5, 1.6],\n",
       "       [6.7, 3.1, 4.7, 1.5],\n",
       "       [6.3, 2.3, 4.4, 1.3],\n",
       "       [5.6, 3. , 4.1, 1.3],\n",
       "       [5.5, 2.5, 4. , 1.3],\n",
       "       [5.5, 2.6, 4.4, 1.2],\n",
       "       [6.1, 3. , 4.6, 1.4],\n",
       "       [5.8, 2.6, 4. , 1.2],\n",
       "       [5. , 2.3, 3.3, 1. ],\n",
       "       [5.6, 2.7, 4.2, 1.3],\n",
       "       [5.7, 3. , 4.2, 1.2],\n",
       "       [5.7, 2.9, 4.2, 1.3],\n",
       "       [6.2, 2.9, 4.3, 1.3],\n",
       "       [5.1, 2.5, 3. , 1.1],\n",
       "       [5.7, 2.8, 4.1, 1.3],\n",
       "       [6.3, 3.3, 6. , 2.5],\n",
       "       [5.8, 2.7, 5.1, 1.9],\n",
       "       [7.1, 3. , 5.9, 2.1],\n",
       "       [6.3, 2.9, 5.6, 1.8],\n",
       "       [6.5, 3. , 5.8, 2.2],\n",
       "       [7.6, 3. , 6.6, 2.1],\n",
       "       [4.9, 2.5, 4.5, 1.7],\n",
       "       [7.3, 2.9, 6.3, 1.8],\n",
       "       [6.7, 2.5, 5.8, 1.8],\n",
       "       [7.2, 3.6, 6.1, 2.5],\n",
       "       [6.5, 3.2, 5.1, 2. ],\n",
       "       [6.4, 2.7, 5.3, 1.9],\n",
       "       [6.8, 3. , 5.5, 2.1],\n",
       "       [5.7, 2.5, 5. , 2. ],\n",
       "       [5.8, 2.8, 5.1, 2.4],\n",
       "       [6.4, 3.2, 5.3, 2.3],\n",
       "       [6.5, 3. , 5.5, 1.8],\n",
       "       [7.7, 3.8, 6.7, 2.2],\n",
       "       [7.7, 2.6, 6.9, 2.3],\n",
       "       [6. , 2.2, 5. , 1.5],\n",
       "       [6.9, 3.2, 5.7, 2.3],\n",
       "       [5.6, 2.8, 4.9, 2. ],\n",
       "       [7.7, 2.8, 6.7, 2. ],\n",
       "       [6.3, 2.7, 4.9, 1.8],\n",
       "       [6.7, 3.3, 5.7, 2.1],\n",
       "       [7.2, 3.2, 6. , 1.8],\n",
       "       [6.2, 2.8, 4.8, 1.8],\n",
       "       [6.1, 3. , 4.9, 1.8],\n",
       "       [6.4, 2.8, 5.6, 2.1],\n",
       "       [7.2, 3. , 5.8, 1.6],\n",
       "       [7.4, 2.8, 6.1, 1.9],\n",
       "       [7.9, 3.8, 6.4, 2. ],\n",
       "       [6.4, 2.8, 5.6, 2.2],\n",
       "       [6.3, 2.8, 5.1, 1.5],\n",
       "       [6.1, 2.6, 5.6, 1.4],\n",
       "       [7.7, 3. , 6.1, 2.3],\n",
       "       [6.3, 3.4, 5.6, 2.4],\n",
       "       [6.4, 3.1, 5.5, 1.8],\n",
       "       [6. , 3. , 4.8, 1.8],\n",
       "       [6.9, 3.1, 5.4, 2.1],\n",
       "       [6.7, 3.1, 5.6, 2.4],\n",
       "       [6.9, 3.1, 5.1, 2.3],\n",
       "       [5.8, 2.7, 5.1, 1.9],\n",
       "       [6.8, 3.2, 5.9, 2.3],\n",
       "       [6.7, 3.3, 5.7, 2.5],\n",
       "       [6.7, 3. , 5.2, 2.3],\n",
       "       [6.3, 2.5, 5. , 1.9],\n",
       "       [6.5, 3. , 5.2, 2. ],\n",
       "       [6.2, 3.4, 5.4, 2.3],\n",
       "       [5.9, 3. , 5.1, 1.8]])"
      ]
     },
     "execution_count": 5,
     "metadata": {},
     "output_type": "execute_result"
    }
   ],
   "source": [
    "x                                                   "
   ]
  },
  {
   "cell_type": "code",
   "execution_count": null,
   "metadata": {},
   "outputs": [
    {
     "data": {
      "text/plain": [
       "array([0, 0, 0, 0, 0, 0, 0, 0, 0, 0, 0, 0, 0, 0, 0, 0, 0, 0, 0, 0, 0, 0,\n",
       "       0, 0, 0, 0, 0, 0, 0, 0, 0, 0, 0, 0, 0, 0, 0, 0, 0, 0, 0, 0, 0, 0,\n",
       "       0, 0, 0, 0, 0, 0, 1, 1, 1, 1, 1, 1, 1, 1, 1, 1, 1, 1, 1, 1, 1, 1,\n",
       "       1, 1, 1, 1, 1, 1, 1, 1, 1, 1, 1, 1, 1, 1, 1, 1, 1, 1, 1, 1, 1, 1,\n",
       "       1, 1, 1, 1, 1, 1, 1, 1, 1, 1, 1, 1, 2, 2, 2, 2, 2, 2, 2, 2, 2, 2,\n",
       "       2, 2, 2, 2, 2, 2, 2, 2, 2, 2, 2, 2, 2, 2, 2, 2, 2, 2, 2, 2, 2, 2,\n",
       "       2, 2, 2, 2, 2, 2, 2, 2, 2, 2, 2, 2, 2, 2, 2, 2, 2, 2])"
      ]
     },
     "execution_count": 6,
     "metadata": {},
     "output_type": "execute_result"
    }
   ],
   "source": [
    "y                                                       "
   ]
  },
  {
   "cell_type": "markdown",
   "metadata": {},
   "source": [
    "تقسیم داده به داده اموزش و تست"
   ]
  },
  {
   "cell_type": "code",
   "execution_count": null,
   "metadata": {},
   "outputs": [],
   "source": [
    "x_train,x_test,y_train,y_test=train_test_split(x,y,random_state=42,test_size=0.2) "
   ]
  },
  {
   "cell_type": "code",
   "execution_count": 18,
   "metadata": {},
   "outputs": [
    {
     "data": {
      "text/plain": [
       "array([4.6, 3.6, 1. , 0.2])"
      ]
     },
     "execution_count": 18,
     "metadata": {},
     "output_type": "execute_result"
    }
   ],
   "source": [
    "x_train[0]"
   ]
  },
  {
   "cell_type": "code",
   "execution_count": 19,
   "metadata": {},
   "outputs": [
    {
     "data": {
      "text/plain": [
       "np.int64(0)"
      ]
     },
     "execution_count": 19,
     "metadata": {},
     "output_type": "execute_result"
    }
   ],
   "source": [
    "y_train[0]"
   ]
  },
  {
   "cell_type": "code",
   "execution_count": 20,
   "metadata": {},
   "outputs": [
    {
     "data": {
      "text/plain": [
       "array([6.1, 2.8, 4.7, 1.2])"
      ]
     },
     "execution_count": 20,
     "metadata": {},
     "output_type": "execute_result"
    }
   ],
   "source": [
    "x_test[0]"
   ]
  },
  {
   "cell_type": "code",
   "execution_count": 21,
   "metadata": {},
   "outputs": [
    {
     "data": {
      "text/plain": [
       "np.int64(1)"
      ]
     },
     "execution_count": 21,
     "metadata": {},
     "output_type": "execute_result"
    }
   ],
   "source": [
    "y_test[0]"
   ]
  },
  {
   "cell_type": "code",
   "execution_count": null,
   "metadata": {},
   "outputs": [
    {
     "data": {
      "text/plain": [
       "120"
      ]
     },
     "execution_count": 22,
     "metadata": {},
     "output_type": "execute_result"
    }
   ],
   "source": [
    "len(y_train)                    "
   ]
  },
  {
   "cell_type": "code",
   "execution_count": null,
   "metadata": {},
   "outputs": [
    {
     "data": {
      "text/plain": [
       "30"
      ]
     },
     "execution_count": 23,
     "metadata": {},
     "output_type": "execute_result"
    }
   ],
   "source": [
    "len(y_test)        "
   ]
  },
  {
   "cell_type": "markdown",
   "metadata": {},
   "source": [
    "پیش پردازش داده"
   ]
  },
  {
   "cell_type": "code",
   "execution_count": null,
   "metadata": {},
   "outputs": [],
   "source": [
    "\n",
    "scaler=StandardScaler()\n",
    "x_trainscaled=scaler.fit_transform(x_train)\n",
    "x_testscaled=scaler.fit_transform(x_test)"
   ]
  },
  {
   "cell_type": "code",
   "execution_count": 29,
   "metadata": {},
   "outputs": [
    {
     "data": {
      "text/plain": [
       "array([[4.6, 3.6, 1. , 0.2],\n",
       "       [5.7, 4.4, 1.5, 0.4],\n",
       "       [6.7, 3.1, 4.4, 1.4],\n",
       "       [4.8, 3.4, 1.6, 0.2],\n",
       "       [4.4, 3.2, 1.3, 0.2]])"
      ]
     },
     "execution_count": 29,
     "metadata": {},
     "output_type": "execute_result"
    }
   ],
   "source": [
    "x_train[:5]"
   ]
  },
  {
   "cell_type": "code",
   "execution_count": null,
   "metadata": {},
   "outputs": [
    {
     "data": {
      "text/plain": [
       "array([[-1.47393679,  1.20365799, -1.56253475, -1.31260282],\n",
       "       [-0.13307079,  2.99237573, -1.27600637, -1.04563275],\n",
       "       [ 1.08589829,  0.08570939,  0.38585821,  0.28921757],\n",
       "       [-1.23014297,  0.75647855, -1.2187007 , -1.31260282],\n",
       "       [-1.7177306 ,  0.30929911, -1.39061772, -1.31260282]])"
      ]
     },
     "execution_count": 30,
     "metadata": {},
     "output_type": "execute_result"
    }
   ],
   "source": [
    "x_trainscaled[:5]                               "
   ]
  },
  {
   "cell_type": "markdown",
   "metadata": {},
   "source": [
    "انتخاب مدل"
   ]
  },
  {
   "cell_type": "markdown",
   "metadata": {},
   "source": [
    "معماری مدل"
   ]
  },
  {
   "cell_type": "code",
   "execution_count": null,
   "metadata": {},
   "outputs": [],
   "source": [
    "MLP=MLPClassifier(hidden_layer_sizes=(256,128,64,32),activation=\"relu\",solver=\"sgd\",learning_rate=\"adaptive\",learning_rate_init=0.001,verbose=1,\n",
    "                  random_state=42,max_iter=300)"
   ]
  },
  {
   "cell_type": "markdown",
   "metadata": {},
   "source": [
    "اموزش مدل"
   ]
  },
  {
   "cell_type": "code",
   "execution_count": 54,
   "metadata": {},
   "outputs": [
    {
     "name": "stdout",
     "output_type": "stream",
     "text": [
      "Iteration 1, loss = 1.14464232\n",
      "Iteration 2, loss = 1.14376375\n",
      "Iteration 3, loss = 1.14251007\n",
      "Iteration 4, loss = 1.14093460\n",
      "Iteration 5, loss = 1.13908054\n",
      "Iteration 6, loss = 1.13698349\n",
      "Iteration 7, loss = 1.13468020\n",
      "Iteration 8, loss = 1.13219947\n",
      "Iteration 9, loss = 1.12956230\n",
      "Iteration 10, loss = 1.12678907\n",
      "Iteration 11, loss = 1.12389160\n",
      "Iteration 12, loss = 1.12088892\n",
      "Iteration 13, loss = 1.11780165\n",
      "Iteration 14, loss = 1.11465729\n",
      "Iteration 15, loss = 1.11147652\n",
      "Iteration 16, loss = 1.10826428\n",
      "Iteration 17, loss = 1.10500295\n",
      "Iteration 18, loss = 1.10171690\n",
      "Iteration 19, loss = 1.09841535\n",
      "Iteration 20, loss = 1.09511071\n",
      "Iteration 21, loss = 1.09179642\n",
      "Iteration 22, loss = 1.08847960\n",
      "Iteration 23, loss = 1.08516737\n",
      "Iteration 24, loss = 1.08187246\n",
      "Iteration 25, loss = 1.07857800\n",
      "Iteration 26, loss = 1.07528322\n",
      "Iteration 27, loss = 1.07199022\n",
      "Iteration 28, loss = 1.06869468\n",
      "Iteration 29, loss = 1.06539708\n",
      "Iteration 30, loss = 1.06211004\n",
      "Iteration 31, loss = 1.05884050\n",
      "Iteration 32, loss = 1.05558080\n",
      "Iteration 33, loss = 1.05232609\n",
      "Iteration 34, loss = 1.04909462\n",
      "Iteration 35, loss = 1.04588794\n",
      "Iteration 36, loss = 1.04269662\n",
      "Iteration 37, loss = 1.03950769\n",
      "Iteration 38, loss = 1.03632659\n",
      "Iteration 39, loss = 1.03315008\n",
      "Iteration 40, loss = 1.03000146\n",
      "Iteration 41, loss = 1.02686822\n",
      "Iteration 42, loss = 1.02375868\n",
      "Iteration 43, loss = 1.02066300\n",
      "Iteration 44, loss = 1.01758051\n",
      "Iteration 45, loss = 1.01450918\n",
      "Iteration 46, loss = 1.01144287\n",
      "Iteration 47, loss = 1.00838837\n",
      "Iteration 48, loss = 1.00534684\n",
      "Iteration 49, loss = 1.00230323\n",
      "Iteration 50, loss = 0.99926793\n",
      "Iteration 51, loss = 0.99624717\n",
      "Iteration 52, loss = 0.99322626\n",
      "Iteration 53, loss = 0.99021109\n",
      "Iteration 54, loss = 0.98720552\n",
      "Iteration 55, loss = 0.98421740\n",
      "Iteration 56, loss = 0.98124306\n",
      "Iteration 57, loss = 0.97827776\n",
      "Iteration 58, loss = 0.97531977\n",
      "Iteration 59, loss = 0.97236691\n",
      "Iteration 60, loss = 0.96941709\n",
      "Iteration 61, loss = 0.96646291\n",
      "Iteration 62, loss = 0.96350656\n",
      "Iteration 63, loss = 0.96054718\n",
      "Iteration 64, loss = 0.95759115\n",
      "Iteration 65, loss = 0.95464461\n",
      "Iteration 66, loss = 0.95169791\n",
      "Iteration 67, loss = 0.94875119\n",
      "Iteration 68, loss = 0.94579696\n",
      "Iteration 69, loss = 0.94283048\n",
      "Iteration 70, loss = 0.93985852\n",
      "Iteration 71, loss = 0.93687939\n",
      "Iteration 72, loss = 0.93389016\n",
      "Iteration 73, loss = 0.93089720\n",
      "Iteration 74, loss = 0.92790028\n",
      "Iteration 75, loss = 0.92490015\n",
      "Iteration 76, loss = 0.92189863\n",
      "Iteration 77, loss = 0.91887997\n",
      "Iteration 78, loss = 0.91584217\n",
      "Iteration 79, loss = 0.91279309\n",
      "Iteration 80, loss = 0.90973450\n",
      "Iteration 81, loss = 0.90666253\n",
      "Iteration 82, loss = 0.90357276\n",
      "Iteration 83, loss = 0.90047386\n",
      "Iteration 84, loss = 0.89736984\n",
      "Iteration 85, loss = 0.89425852\n",
      "Iteration 86, loss = 0.89113586\n",
      "Iteration 87, loss = 0.88800101\n",
      "Iteration 88, loss = 0.88485857\n",
      "Iteration 89, loss = 0.88170915\n",
      "Iteration 90, loss = 0.87855515\n",
      "Iteration 91, loss = 0.87538963\n",
      "Iteration 92, loss = 0.87221123\n",
      "Iteration 93, loss = 0.86902463\n",
      "Iteration 94, loss = 0.86584200\n",
      "Iteration 95, loss = 0.86265627\n",
      "Iteration 96, loss = 0.85946595\n",
      "Iteration 97, loss = 0.85626598\n",
      "Iteration 98, loss = 0.85304867\n",
      "Iteration 99, loss = 0.84981272\n",
      "Iteration 100, loss = 0.84656030\n",
      "Iteration 101, loss = 0.84329084\n",
      "Iteration 102, loss = 0.84000498\n",
      "Iteration 103, loss = 0.83670139\n",
      "Iteration 104, loss = 0.83338805\n",
      "Iteration 105, loss = 0.83006604\n",
      "Iteration 106, loss = 0.82673447\n",
      "Iteration 107, loss = 0.82339013\n",
      "Iteration 108, loss = 0.82003596\n",
      "Iteration 109, loss = 0.81666836\n",
      "Iteration 110, loss = 0.81329291\n",
      "Iteration 111, loss = 0.80990795\n",
      "Iteration 112, loss = 0.80651437\n",
      "Iteration 113, loss = 0.80311381\n",
      "Iteration 114, loss = 0.79969823\n",
      "Iteration 115, loss = 0.79627335\n",
      "Iteration 116, loss = 0.79284584\n",
      "Iteration 117, loss = 0.78940873\n",
      "Iteration 118, loss = 0.78595823\n",
      "Iteration 119, loss = 0.78248707\n",
      "Iteration 120, loss = 0.77900217\n",
      "Iteration 121, loss = 0.77551048\n",
      "Iteration 122, loss = 0.77201270\n",
      "Iteration 123, loss = 0.76850583\n",
      "Iteration 124, loss = 0.76499248\n",
      "Iteration 125, loss = 0.76147073\n",
      "Iteration 126, loss = 0.75794231\n",
      "Iteration 127, loss = 0.75440178\n",
      "Iteration 128, loss = 0.75084780\n",
      "Iteration 129, loss = 0.74728028\n",
      "Iteration 130, loss = 0.74368726\n",
      "Iteration 131, loss = 0.74008052\n",
      "Iteration 132, loss = 0.73646178\n",
      "Iteration 133, loss = 0.73283399\n",
      "Iteration 134, loss = 0.72919998\n",
      "Iteration 135, loss = 0.72555795\n",
      "Iteration 136, loss = 0.72189321\n",
      "Iteration 137, loss = 0.71821826\n",
      "Iteration 138, loss = 0.71452564\n",
      "Iteration 139, loss = 0.71082765\n",
      "Iteration 140, loss = 0.70712042\n",
      "Iteration 141, loss = 0.70340759\n",
      "Iteration 142, loss = 0.69968960\n",
      "Iteration 143, loss = 0.69596893\n",
      "Iteration 144, loss = 0.69224719\n",
      "Iteration 145, loss = 0.68852918\n",
      "Iteration 146, loss = 0.68480751\n",
      "Iteration 147, loss = 0.68108688\n",
      "Iteration 148, loss = 0.67737136\n",
      "Iteration 149, loss = 0.67365998\n",
      "Iteration 150, loss = 0.66995555\n",
      "Iteration 151, loss = 0.66625822\n",
      "Iteration 152, loss = 0.66256709\n",
      "Iteration 153, loss = 0.65888314\n",
      "Iteration 154, loss = 0.65520676\n",
      "Iteration 155, loss = 0.65154211\n",
      "Iteration 156, loss = 0.64788449\n",
      "Iteration 157, loss = 0.64423682\n",
      "Iteration 158, loss = 0.64060585\n",
      "Iteration 159, loss = 0.63698660\n",
      "Iteration 160, loss = 0.63337312\n",
      "Iteration 161, loss = 0.62977045\n",
      "Iteration 162, loss = 0.62618025\n",
      "Iteration 163, loss = 0.62260195\n",
      "Iteration 164, loss = 0.61904121\n",
      "Iteration 165, loss = 0.61548377\n",
      "Iteration 166, loss = 0.61194184\n",
      "Iteration 167, loss = 0.60841267\n",
      "Iteration 168, loss = 0.60490307\n",
      "Iteration 169, loss = 0.60140944\n",
      "Iteration 170, loss = 0.59793231\n",
      "Iteration 171, loss = 0.59447826\n",
      "Iteration 172, loss = 0.59104353\n",
      "Iteration 173, loss = 0.58762849\n",
      "Iteration 174, loss = 0.58421652\n",
      "Iteration 175, loss = 0.58082059\n",
      "Iteration 176, loss = 0.57745061\n",
      "Iteration 177, loss = 0.57410111\n",
      "Iteration 178, loss = 0.57077692\n",
      "Iteration 179, loss = 0.56748093\n",
      "Iteration 180, loss = 0.56420541\n",
      "Iteration 181, loss = 0.56095128\n",
      "Iteration 182, loss = 0.55772294\n",
      "Iteration 183, loss = 0.55451922\n",
      "Iteration 184, loss = 0.55134460\n",
      "Iteration 185, loss = 0.54819846\n",
      "Iteration 186, loss = 0.54507718\n",
      "Iteration 187, loss = 0.54198161\n",
      "Iteration 188, loss = 0.53890754\n",
      "Iteration 189, loss = 0.53585672\n",
      "Iteration 190, loss = 0.53283004\n",
      "Iteration 191, loss = 0.52982642\n",
      "Iteration 192, loss = 0.52684701\n",
      "Iteration 193, loss = 0.52388796\n",
      "Iteration 194, loss = 0.52095421\n",
      "Iteration 195, loss = 0.51804305\n",
      "Iteration 196, loss = 0.51515605\n",
      "Iteration 197, loss = 0.51229400\n",
      "Iteration 198, loss = 0.50945320\n",
      "Iteration 199, loss = 0.50663107\n",
      "Iteration 200, loss = 0.50382501\n",
      "Iteration 201, loss = 0.50103473\n",
      "Iteration 202, loss = 0.49826668\n",
      "Iteration 203, loss = 0.49551908\n",
      "Iteration 204, loss = 0.49278582\n",
      "Iteration 205, loss = 0.49007073\n",
      "Iteration 206, loss = 0.48737589\n",
      "Iteration 207, loss = 0.48470348\n",
      "Iteration 208, loss = 0.48204559\n",
      "Iteration 209, loss = 0.47940442\n",
      "Iteration 210, loss = 0.47678592\n",
      "Iteration 211, loss = 0.47418966\n",
      "Iteration 212, loss = 0.47161382\n",
      "Iteration 213, loss = 0.46906058\n",
      "Iteration 214, loss = 0.46652691\n",
      "Iteration 215, loss = 0.46401481\n",
      "Iteration 216, loss = 0.46152552\n",
      "Iteration 217, loss = 0.45905513\n",
      "Iteration 218, loss = 0.45660475\n",
      "Iteration 219, loss = 0.45417681\n",
      "Iteration 220, loss = 0.45177708\n",
      "Iteration 221, loss = 0.44939617\n",
      "Iteration 222, loss = 0.44703397\n",
      "Iteration 223, loss = 0.44468488\n",
      "Iteration 224, loss = 0.44235874\n",
      "Iteration 225, loss = 0.44004960\n",
      "Iteration 226, loss = 0.43776194\n",
      "Iteration 227, loss = 0.43549632\n",
      "Iteration 228, loss = 0.43325457\n",
      "Iteration 229, loss = 0.43103163\n",
      "Iteration 230, loss = 0.42882536\n",
      "Iteration 231, loss = 0.42662591\n",
      "Iteration 232, loss = 0.42443832\n",
      "Iteration 233, loss = 0.42226764\n",
      "Iteration 234, loss = 0.42011535\n",
      "Iteration 235, loss = 0.41798220\n",
      "Iteration 236, loss = 0.41586709\n",
      "Iteration 237, loss = 0.41377218\n",
      "Iteration 238, loss = 0.41169262\n",
      "Iteration 239, loss = 0.40962772\n",
      "Iteration 240, loss = 0.40758377\n",
      "Iteration 241, loss = 0.40556183\n",
      "Iteration 242, loss = 0.40355713\n",
      "Iteration 243, loss = 0.40156873\n",
      "Iteration 244, loss = 0.39959720\n",
      "Iteration 245, loss = 0.39764022\n",
      "Iteration 246, loss = 0.39569711\n",
      "Iteration 247, loss = 0.39377065\n",
      "Iteration 248, loss = 0.39185889\n",
      "Iteration 249, loss = 0.38996036\n",
      "Iteration 250, loss = 0.38807628\n",
      "Iteration 251, loss = 0.38620830\n",
      "Iteration 252, loss = 0.38435552\n",
      "Iteration 253, loss = 0.38251580\n",
      "Iteration 254, loss = 0.38068839\n",
      "Iteration 255, loss = 0.37887397\n",
      "Iteration 256, loss = 0.37707310\n",
      "Iteration 257, loss = 0.37528636\n",
      "Iteration 258, loss = 0.37351152\n",
      "Iteration 259, loss = 0.37175033\n",
      "Iteration 260, loss = 0.37000173\n",
      "Iteration 261, loss = 0.36826627\n",
      "Iteration 262, loss = 0.36654501\n",
      "Iteration 263, loss = 0.36483701\n",
      "Iteration 264, loss = 0.36313974\n",
      "Iteration 265, loss = 0.36145244\n",
      "Iteration 266, loss = 0.35977605\n",
      "Iteration 267, loss = 0.35811029\n",
      "Iteration 268, loss = 0.35645536\n",
      "Iteration 269, loss = 0.35481224\n",
      "Iteration 270, loss = 0.35318056\n",
      "Iteration 271, loss = 0.35156108\n",
      "Iteration 272, loss = 0.34994979\n",
      "Iteration 273, loss = 0.34834757\n",
      "Iteration 274, loss = 0.34675441\n",
      "Iteration 275, loss = 0.34517153\n",
      "Iteration 276, loss = 0.34359970\n",
      "Iteration 277, loss = 0.34203873\n",
      "Iteration 278, loss = 0.34048798\n",
      "Iteration 279, loss = 0.33894817\n",
      "Iteration 280, loss = 0.33741444\n",
      "Iteration 281, loss = 0.33588692\n",
      "Iteration 282, loss = 0.33436911\n",
      "Iteration 283, loss = 0.33286132\n",
      "Iteration 284, loss = 0.33136317\n",
      "Iteration 285, loss = 0.32987468\n",
      "Iteration 286, loss = 0.32839462\n",
      "Iteration 287, loss = 0.32692203\n",
      "Iteration 288, loss = 0.32545708\n",
      "Iteration 289, loss = 0.32399989\n",
      "Iteration 290, loss = 0.32254896\n",
      "Iteration 291, loss = 0.32110549\n",
      "Iteration 292, loss = 0.31966957\n",
      "Iteration 293, loss = 0.31824261\n",
      "Iteration 294, loss = 0.31682222\n",
      "Iteration 295, loss = 0.31540915\n",
      "Iteration 296, loss = 0.31400438\n",
      "Iteration 297, loss = 0.31260725\n",
      "Iteration 298, loss = 0.31121735\n",
      "Iteration 299, loss = 0.30983481\n",
      "Iteration 300, loss = 0.30845975\n"
     ]
    },
    {
     "name": "stderr",
     "output_type": "stream",
     "text": [
      "c:\\Users\\Masuod\\AppData\\Local\\Programs\\Python\\Python312\\Lib\\site-packages\\sklearn\\neural_network\\_multilayer_perceptron.py:690: ConvergenceWarning: Stochastic Optimizer: Maximum iterations (300) reached and the optimization hasn't converged yet.\n",
      "  warnings.warn(\n"
     ]
    },
    {
     "data": {
      "text/html": [
       "<style>#sk-container-id-5 {\n",
       "  /* Definition of color scheme common for light and dark mode */\n",
       "  --sklearn-color-text: black;\n",
       "  --sklearn-color-line: gray;\n",
       "  /* Definition of color scheme for unfitted estimators */\n",
       "  --sklearn-color-unfitted-level-0: #fff5e6;\n",
       "  --sklearn-color-unfitted-level-1: #f6e4d2;\n",
       "  --sklearn-color-unfitted-level-2: #ffe0b3;\n",
       "  --sklearn-color-unfitted-level-3: chocolate;\n",
       "  /* Definition of color scheme for fitted estimators */\n",
       "  --sklearn-color-fitted-level-0: #f0f8ff;\n",
       "  --sklearn-color-fitted-level-1: #d4ebff;\n",
       "  --sklearn-color-fitted-level-2: #b3dbfd;\n",
       "  --sklearn-color-fitted-level-3: cornflowerblue;\n",
       "\n",
       "  /* Specific color for light theme */\n",
       "  --sklearn-color-text-on-default-background: var(--sg-text-color, var(--theme-code-foreground, var(--jp-content-font-color1, black)));\n",
       "  --sklearn-color-background: var(--sg-background-color, var(--theme-background, var(--jp-layout-color0, white)));\n",
       "  --sklearn-color-border-box: var(--sg-text-color, var(--theme-code-foreground, var(--jp-content-font-color1, black)));\n",
       "  --sklearn-color-icon: #696969;\n",
       "\n",
       "  @media (prefers-color-scheme: dark) {\n",
       "    /* Redefinition of color scheme for dark theme */\n",
       "    --sklearn-color-text-on-default-background: var(--sg-text-color, var(--theme-code-foreground, var(--jp-content-font-color1, white)));\n",
       "    --sklearn-color-background: var(--sg-background-color, var(--theme-background, var(--jp-layout-color0, #111)));\n",
       "    --sklearn-color-border-box: var(--sg-text-color, var(--theme-code-foreground, var(--jp-content-font-color1, white)));\n",
       "    --sklearn-color-icon: #878787;\n",
       "  }\n",
       "}\n",
       "\n",
       "#sk-container-id-5 {\n",
       "  color: var(--sklearn-color-text);\n",
       "}\n",
       "\n",
       "#sk-container-id-5 pre {\n",
       "  padding: 0;\n",
       "}\n",
       "\n",
       "#sk-container-id-5 input.sk-hidden--visually {\n",
       "  border: 0;\n",
       "  clip: rect(1px 1px 1px 1px);\n",
       "  clip: rect(1px, 1px, 1px, 1px);\n",
       "  height: 1px;\n",
       "  margin: -1px;\n",
       "  overflow: hidden;\n",
       "  padding: 0;\n",
       "  position: absolute;\n",
       "  width: 1px;\n",
       "}\n",
       "\n",
       "#sk-container-id-5 div.sk-dashed-wrapped {\n",
       "  border: 1px dashed var(--sklearn-color-line);\n",
       "  margin: 0 0.4em 0.5em 0.4em;\n",
       "  box-sizing: border-box;\n",
       "  padding-bottom: 0.4em;\n",
       "  background-color: var(--sklearn-color-background);\n",
       "}\n",
       "\n",
       "#sk-container-id-5 div.sk-container {\n",
       "  /* jupyter's `normalize.less` sets `[hidden] { display: none; }`\n",
       "     but bootstrap.min.css set `[hidden] { display: none !important; }`\n",
       "     so we also need the `!important` here to be able to override the\n",
       "     default hidden behavior on the sphinx rendered scikit-learn.org.\n",
       "     See: https://github.com/scikit-learn/scikit-learn/issues/21755 */\n",
       "  display: inline-block !important;\n",
       "  position: relative;\n",
       "}\n",
       "\n",
       "#sk-container-id-5 div.sk-text-repr-fallback {\n",
       "  display: none;\n",
       "}\n",
       "\n",
       "div.sk-parallel-item,\n",
       "div.sk-serial,\n",
       "div.sk-item {\n",
       "  /* draw centered vertical line to link estimators */\n",
       "  background-image: linear-gradient(var(--sklearn-color-text-on-default-background), var(--sklearn-color-text-on-default-background));\n",
       "  background-size: 2px 100%;\n",
       "  background-repeat: no-repeat;\n",
       "  background-position: center center;\n",
       "}\n",
       "\n",
       "/* Parallel-specific style estimator block */\n",
       "\n",
       "#sk-container-id-5 div.sk-parallel-item::after {\n",
       "  content: \"\";\n",
       "  width: 100%;\n",
       "  border-bottom: 2px solid var(--sklearn-color-text-on-default-background);\n",
       "  flex-grow: 1;\n",
       "}\n",
       "\n",
       "#sk-container-id-5 div.sk-parallel {\n",
       "  display: flex;\n",
       "  align-items: stretch;\n",
       "  justify-content: center;\n",
       "  background-color: var(--sklearn-color-background);\n",
       "  position: relative;\n",
       "}\n",
       "\n",
       "#sk-container-id-5 div.sk-parallel-item {\n",
       "  display: flex;\n",
       "  flex-direction: column;\n",
       "}\n",
       "\n",
       "#sk-container-id-5 div.sk-parallel-item:first-child::after {\n",
       "  align-self: flex-end;\n",
       "  width: 50%;\n",
       "}\n",
       "\n",
       "#sk-container-id-5 div.sk-parallel-item:last-child::after {\n",
       "  align-self: flex-start;\n",
       "  width: 50%;\n",
       "}\n",
       "\n",
       "#sk-container-id-5 div.sk-parallel-item:only-child::after {\n",
       "  width: 0;\n",
       "}\n",
       "\n",
       "/* Serial-specific style estimator block */\n",
       "\n",
       "#sk-container-id-5 div.sk-serial {\n",
       "  display: flex;\n",
       "  flex-direction: column;\n",
       "  align-items: center;\n",
       "  background-color: var(--sklearn-color-background);\n",
       "  padding-right: 1em;\n",
       "  padding-left: 1em;\n",
       "}\n",
       "\n",
       "\n",
       "/* Toggleable style: style used for estimator/Pipeline/ColumnTransformer box that is\n",
       "clickable and can be expanded/collapsed.\n",
       "- Pipeline and ColumnTransformer use this feature and define the default style\n",
       "- Estimators will overwrite some part of the style using the `sk-estimator` class\n",
       "*/\n",
       "\n",
       "/* Pipeline and ColumnTransformer style (default) */\n",
       "\n",
       "#sk-container-id-5 div.sk-toggleable {\n",
       "  /* Default theme specific background. It is overwritten whether we have a\n",
       "  specific estimator or a Pipeline/ColumnTransformer */\n",
       "  background-color: var(--sklearn-color-background);\n",
       "}\n",
       "\n",
       "/* Toggleable label */\n",
       "#sk-container-id-5 label.sk-toggleable__label {\n",
       "  cursor: pointer;\n",
       "  display: block;\n",
       "  width: 100%;\n",
       "  margin-bottom: 0;\n",
       "  padding: 0.5em;\n",
       "  box-sizing: border-box;\n",
       "  text-align: center;\n",
       "}\n",
       "\n",
       "#sk-container-id-5 label.sk-toggleable__label-arrow:before {\n",
       "  /* Arrow on the left of the label */\n",
       "  content: \"▸\";\n",
       "  float: left;\n",
       "  margin-right: 0.25em;\n",
       "  color: var(--sklearn-color-icon);\n",
       "}\n",
       "\n",
       "#sk-container-id-5 label.sk-toggleable__label-arrow:hover:before {\n",
       "  color: var(--sklearn-color-text);\n",
       "}\n",
       "\n",
       "/* Toggleable content - dropdown */\n",
       "\n",
       "#sk-container-id-5 div.sk-toggleable__content {\n",
       "  max-height: 0;\n",
       "  max-width: 0;\n",
       "  overflow: hidden;\n",
       "  text-align: left;\n",
       "  /* unfitted */\n",
       "  background-color: var(--sklearn-color-unfitted-level-0);\n",
       "}\n",
       "\n",
       "#sk-container-id-5 div.sk-toggleable__content.fitted {\n",
       "  /* fitted */\n",
       "  background-color: var(--sklearn-color-fitted-level-0);\n",
       "}\n",
       "\n",
       "#sk-container-id-5 div.sk-toggleable__content pre {\n",
       "  margin: 0.2em;\n",
       "  border-radius: 0.25em;\n",
       "  color: var(--sklearn-color-text);\n",
       "  /* unfitted */\n",
       "  background-color: var(--sklearn-color-unfitted-level-0);\n",
       "}\n",
       "\n",
       "#sk-container-id-5 div.sk-toggleable__content.fitted pre {\n",
       "  /* unfitted */\n",
       "  background-color: var(--sklearn-color-fitted-level-0);\n",
       "}\n",
       "\n",
       "#sk-container-id-5 input.sk-toggleable__control:checked~div.sk-toggleable__content {\n",
       "  /* Expand drop-down */\n",
       "  max-height: 200px;\n",
       "  max-width: 100%;\n",
       "  overflow: auto;\n",
       "}\n",
       "\n",
       "#sk-container-id-5 input.sk-toggleable__control:checked~label.sk-toggleable__label-arrow:before {\n",
       "  content: \"▾\";\n",
       "}\n",
       "\n",
       "/* Pipeline/ColumnTransformer-specific style */\n",
       "\n",
       "#sk-container-id-5 div.sk-label input.sk-toggleable__control:checked~label.sk-toggleable__label {\n",
       "  color: var(--sklearn-color-text);\n",
       "  background-color: var(--sklearn-color-unfitted-level-2);\n",
       "}\n",
       "\n",
       "#sk-container-id-5 div.sk-label.fitted input.sk-toggleable__control:checked~label.sk-toggleable__label {\n",
       "  background-color: var(--sklearn-color-fitted-level-2);\n",
       "}\n",
       "\n",
       "/* Estimator-specific style */\n",
       "\n",
       "/* Colorize estimator box */\n",
       "#sk-container-id-5 div.sk-estimator input.sk-toggleable__control:checked~label.sk-toggleable__label {\n",
       "  /* unfitted */\n",
       "  background-color: var(--sklearn-color-unfitted-level-2);\n",
       "}\n",
       "\n",
       "#sk-container-id-5 div.sk-estimator.fitted input.sk-toggleable__control:checked~label.sk-toggleable__label {\n",
       "  /* fitted */\n",
       "  background-color: var(--sklearn-color-fitted-level-2);\n",
       "}\n",
       "\n",
       "#sk-container-id-5 div.sk-label label.sk-toggleable__label,\n",
       "#sk-container-id-5 div.sk-label label {\n",
       "  /* The background is the default theme color */\n",
       "  color: var(--sklearn-color-text-on-default-background);\n",
       "}\n",
       "\n",
       "/* On hover, darken the color of the background */\n",
       "#sk-container-id-5 div.sk-label:hover label.sk-toggleable__label {\n",
       "  color: var(--sklearn-color-text);\n",
       "  background-color: var(--sklearn-color-unfitted-level-2);\n",
       "}\n",
       "\n",
       "/* Label box, darken color on hover, fitted */\n",
       "#sk-container-id-5 div.sk-label.fitted:hover label.sk-toggleable__label.fitted {\n",
       "  color: var(--sklearn-color-text);\n",
       "  background-color: var(--sklearn-color-fitted-level-2);\n",
       "}\n",
       "\n",
       "/* Estimator label */\n",
       "\n",
       "#sk-container-id-5 div.sk-label label {\n",
       "  font-family: monospace;\n",
       "  font-weight: bold;\n",
       "  display: inline-block;\n",
       "  line-height: 1.2em;\n",
       "}\n",
       "\n",
       "#sk-container-id-5 div.sk-label-container {\n",
       "  text-align: center;\n",
       "}\n",
       "\n",
       "/* Estimator-specific */\n",
       "#sk-container-id-5 div.sk-estimator {\n",
       "  font-family: monospace;\n",
       "  border: 1px dotted var(--sklearn-color-border-box);\n",
       "  border-radius: 0.25em;\n",
       "  box-sizing: border-box;\n",
       "  margin-bottom: 0.5em;\n",
       "  /* unfitted */\n",
       "  background-color: var(--sklearn-color-unfitted-level-0);\n",
       "}\n",
       "\n",
       "#sk-container-id-5 div.sk-estimator.fitted {\n",
       "  /* fitted */\n",
       "  background-color: var(--sklearn-color-fitted-level-0);\n",
       "}\n",
       "\n",
       "/* on hover */\n",
       "#sk-container-id-5 div.sk-estimator:hover {\n",
       "  /* unfitted */\n",
       "  background-color: var(--sklearn-color-unfitted-level-2);\n",
       "}\n",
       "\n",
       "#sk-container-id-5 div.sk-estimator.fitted:hover {\n",
       "  /* fitted */\n",
       "  background-color: var(--sklearn-color-fitted-level-2);\n",
       "}\n",
       "\n",
       "/* Specification for estimator info (e.g. \"i\" and \"?\") */\n",
       "\n",
       "/* Common style for \"i\" and \"?\" */\n",
       "\n",
       ".sk-estimator-doc-link,\n",
       "a:link.sk-estimator-doc-link,\n",
       "a:visited.sk-estimator-doc-link {\n",
       "  float: right;\n",
       "  font-size: smaller;\n",
       "  line-height: 1em;\n",
       "  font-family: monospace;\n",
       "  background-color: var(--sklearn-color-background);\n",
       "  border-radius: 1em;\n",
       "  height: 1em;\n",
       "  width: 1em;\n",
       "  text-decoration: none !important;\n",
       "  margin-left: 1ex;\n",
       "  /* unfitted */\n",
       "  border: var(--sklearn-color-unfitted-level-1) 1pt solid;\n",
       "  color: var(--sklearn-color-unfitted-level-1);\n",
       "}\n",
       "\n",
       ".sk-estimator-doc-link.fitted,\n",
       "a:link.sk-estimator-doc-link.fitted,\n",
       "a:visited.sk-estimator-doc-link.fitted {\n",
       "  /* fitted */\n",
       "  border: var(--sklearn-color-fitted-level-1) 1pt solid;\n",
       "  color: var(--sklearn-color-fitted-level-1);\n",
       "}\n",
       "\n",
       "/* On hover */\n",
       "div.sk-estimator:hover .sk-estimator-doc-link:hover,\n",
       ".sk-estimator-doc-link:hover,\n",
       "div.sk-label-container:hover .sk-estimator-doc-link:hover,\n",
       ".sk-estimator-doc-link:hover {\n",
       "  /* unfitted */\n",
       "  background-color: var(--sklearn-color-unfitted-level-3);\n",
       "  color: var(--sklearn-color-background);\n",
       "  text-decoration: none;\n",
       "}\n",
       "\n",
       "div.sk-estimator.fitted:hover .sk-estimator-doc-link.fitted:hover,\n",
       ".sk-estimator-doc-link.fitted:hover,\n",
       "div.sk-label-container:hover .sk-estimator-doc-link.fitted:hover,\n",
       ".sk-estimator-doc-link.fitted:hover {\n",
       "  /* fitted */\n",
       "  background-color: var(--sklearn-color-fitted-level-3);\n",
       "  color: var(--sklearn-color-background);\n",
       "  text-decoration: none;\n",
       "}\n",
       "\n",
       "/* Span, style for the box shown on hovering the info icon */\n",
       ".sk-estimator-doc-link span {\n",
       "  display: none;\n",
       "  z-index: 9999;\n",
       "  position: relative;\n",
       "  font-weight: normal;\n",
       "  right: .2ex;\n",
       "  padding: .5ex;\n",
       "  margin: .5ex;\n",
       "  width: min-content;\n",
       "  min-width: 20ex;\n",
       "  max-width: 50ex;\n",
       "  color: var(--sklearn-color-text);\n",
       "  box-shadow: 2pt 2pt 4pt #999;\n",
       "  /* unfitted */\n",
       "  background: var(--sklearn-color-unfitted-level-0);\n",
       "  border: .5pt solid var(--sklearn-color-unfitted-level-3);\n",
       "}\n",
       "\n",
       ".sk-estimator-doc-link.fitted span {\n",
       "  /* fitted */\n",
       "  background: var(--sklearn-color-fitted-level-0);\n",
       "  border: var(--sklearn-color-fitted-level-3);\n",
       "}\n",
       "\n",
       ".sk-estimator-doc-link:hover span {\n",
       "  display: block;\n",
       "}\n",
       "\n",
       "/* \"?\"-specific style due to the `<a>` HTML tag */\n",
       "\n",
       "#sk-container-id-5 a.estimator_doc_link {\n",
       "  float: right;\n",
       "  font-size: 1rem;\n",
       "  line-height: 1em;\n",
       "  font-family: monospace;\n",
       "  background-color: var(--sklearn-color-background);\n",
       "  border-radius: 1rem;\n",
       "  height: 1rem;\n",
       "  width: 1rem;\n",
       "  text-decoration: none;\n",
       "  /* unfitted */\n",
       "  color: var(--sklearn-color-unfitted-level-1);\n",
       "  border: var(--sklearn-color-unfitted-level-1) 1pt solid;\n",
       "}\n",
       "\n",
       "#sk-container-id-5 a.estimator_doc_link.fitted {\n",
       "  /* fitted */\n",
       "  border: var(--sklearn-color-fitted-level-1) 1pt solid;\n",
       "  color: var(--sklearn-color-fitted-level-1);\n",
       "}\n",
       "\n",
       "/* On hover */\n",
       "#sk-container-id-5 a.estimator_doc_link:hover {\n",
       "  /* unfitted */\n",
       "  background-color: var(--sklearn-color-unfitted-level-3);\n",
       "  color: var(--sklearn-color-background);\n",
       "  text-decoration: none;\n",
       "}\n",
       "\n",
       "#sk-container-id-5 a.estimator_doc_link.fitted:hover {\n",
       "  /* fitted */\n",
       "  background-color: var(--sklearn-color-fitted-level-3);\n",
       "}\n",
       "</style><div id=\"sk-container-id-5\" class=\"sk-top-container\"><div class=\"sk-text-repr-fallback\"><pre>MLPClassifier(hidden_layer_sizes=(256, 128, 64, 32), learning_rate=&#x27;adaptive&#x27;,\n",
       "              max_iter=300, random_state=42, solver=&#x27;sgd&#x27;, verbose=1)</pre><b>In a Jupyter environment, please rerun this cell to show the HTML representation or trust the notebook. <br />On GitHub, the HTML representation is unable to render, please try loading this page with nbviewer.org.</b></div><div class=\"sk-container\" hidden><div class=\"sk-item\"><div class=\"sk-estimator fitted sk-toggleable\"><input class=\"sk-toggleable__control sk-hidden--visually\" id=\"sk-estimator-id-5\" type=\"checkbox\" checked><label for=\"sk-estimator-id-5\" class=\"sk-toggleable__label fitted sk-toggleable__label-arrow fitted\">&nbsp;&nbsp;MLPClassifier<a class=\"sk-estimator-doc-link fitted\" rel=\"noreferrer\" target=\"_blank\" href=\"https://scikit-learn.org/1.5/modules/generated/sklearn.neural_network.MLPClassifier.html\">?<span>Documentation for MLPClassifier</span></a><span class=\"sk-estimator-doc-link fitted\">i<span>Fitted</span></span></label><div class=\"sk-toggleable__content fitted\"><pre>MLPClassifier(hidden_layer_sizes=(256, 128, 64, 32), learning_rate=&#x27;adaptive&#x27;,\n",
       "              max_iter=300, random_state=42, solver=&#x27;sgd&#x27;, verbose=1)</pre></div> </div></div></div></div>"
      ],
      "text/plain": [
       "MLPClassifier(hidden_layer_sizes=(256, 128, 64, 32), learning_rate='adaptive',\n",
       "              max_iter=300, random_state=42, solver='sgd', verbose=1)"
      ]
     },
     "execution_count": 54,
     "metadata": {},
     "output_type": "execute_result"
    }
   ],
   "source": [
    "MLP.fit(x_trainscaled,y_train)"
   ]
  },
  {
   "cell_type": "code",
   "execution_count": null,
   "metadata": {},
   "outputs": [
    {
     "name": "stdout",
     "output_type": "stream",
     "text": [
      "[[-0.11678415 -0.11511732 -0.15785444 ...  0.08919964 -0.24044504\n",
      "  -0.03391259]\n",
      " [ 0.14293    -0.01097705  0.18675184 ...  0.03678485 -0.2024494\n",
      "   0.153233  ]\n",
      " [-0.03017723 -0.25101428 -0.04274826 ... -0.11033224  0.24513939\n",
      "   0.19594789]\n",
      " ...\n",
      " [-0.09572622 -0.17254145 -0.07945068 ...  0.16093106  0.12994767\n",
      "  -0.19085339]\n",
      " [ 0.15376423  0.06861579  0.11595402 ... -0.01734296 -0.07047753\n",
      "   0.09935258]\n",
      " [ 0.21795837 -0.07512983 -0.07213007 ... -0.08053133  0.00450713\n",
      "   0.09378104]]\n"
     ]
    }
   ],
   "source": [
    "print(MLP.coefs_[3])                    "
   ]
  },
  {
   "cell_type": "code",
   "execution_count": null,
   "metadata": {},
   "outputs": [
    {
     "data": {
      "text/plain": [
       "64"
      ]
     },
     "execution_count": 56,
     "metadata": {},
     "output_type": "execute_result"
    }
   ],
   "source": [
    "len(MLP.coefs_[3])                      "
   ]
  },
  {
   "cell_type": "markdown",
   "metadata": {},
   "source": [
    "استنتاج (استفاده از مدل  )"
   ]
  },
  {
   "cell_type": "code",
   "execution_count": null,
   "metadata": {},
   "outputs": [
    {
     "data": {
      "text/plain": [
       "array([1, 0, 2, 1, 1, 0, 1, 2, 1, 1, 2, 0, 0, 0, 0, 1, 2, 1, 1, 2, 0, 2,\n",
       "       0, 2, 2, 2, 2, 2, 0, 0])"
      ]
     },
     "execution_count": 57,
     "metadata": {},
     "output_type": "execute_result"
    }
   ],
   "source": [
    "y_pred=MLP.predict(x_testscaled)\n",
    "y_pred                                                          "
   ]
  },
  {
   "cell_type": "markdown",
   "metadata": {},
   "source": [
    "ارزیابی مدل"
   ]
  },
  {
   "cell_type": "code",
   "execution_count": null,
   "metadata": {},
   "outputs": [
    {
     "data": {
      "text/plain": [
       "array([1, 0, 2, 1, 1, 0, 1, 2, 1, 1, 2, 0, 0, 0, 0, 1, 2, 1, 1, 2, 0, 2,\n",
       "       0, 2, 2, 2, 2, 2, 0, 0])"
      ]
     },
     "execution_count": 58,
     "metadata": {},
     "output_type": "execute_result"
    }
   ],
   "source": [
    "y_test                                              "
   ]
  },
  {
   "cell_type": "code",
   "execution_count": 63,
   "metadata": {},
   "outputs": [
    {
     "name": "stdout",
     "output_type": "stream",
     "text": [
      "1.0\n"
     ]
    }
   ],
   "source": [
    "print(MLP.score(x_testscaled,y_test))"
   ]
  },
  {
   "cell_type": "code",
   "execution_count": 68,
   "metadata": {},
   "outputs": [],
   "source": [
    "from sklearn.metrics import accuracy_score,precision_score,recall_score"
   ]
  },
  {
   "cell_type": "code",
   "execution_count": 67,
   "metadata": {},
   "outputs": [
    {
     "data": {
      "text/plain": [
       "1.0"
      ]
     },
     "execution_count": 67,
     "metadata": {},
     "output_type": "execute_result"
    }
   ],
   "source": [
    "accuracy_score(y_test,y_pred)"
   ]
  },
  {
   "cell_type": "markdown",
   "metadata": {},
   "source": [
    "confusion_matrix"
   ]
  },
  {
   "cell_type": "code",
   "execution_count": null,
   "metadata": {},
   "outputs": [
    {
     "data": {
      "text/plain": [
       "array([[10,  0,  0],\n",
       "       [ 0,  9,  0],\n",
       "       [ 0,  0, 11]])"
      ]
     },
     "execution_count": 71,
     "metadata": {},
     "output_type": "execute_result"
    }
   ],
   "source": [
    "confusion_matrix(y_test,y_pred)                         "
   ]
  },
  {
   "cell_type": "code",
   "execution_count": 72,
   "metadata": {},
   "outputs": [
    {
     "data": {
      "text/plain": [
       "<function matplotlib.pyplot.show(close=None, block=None)>"
      ]
     },
     "execution_count": 72,
     "metadata": {},
     "output_type": "execute_result"
    },
    {
     "data": {
      "image/png": "[encoded data removed]",
      "text/plain": [
       "<Figure size 640x480 with 2 Axes>"
      ]
     },
     "metadata": {},
     "output_type": "display_data"
    }
   ],
   "source": [
    "fig= ConfusionMatrixDisplay.from_estimator(MLP,x_testscaled,y_test,display_labels=[\"setosa\",\"versicolor\",\"virginica\"])\n",
    "fig.figure_.suptitle(\"confusion matrix for iris dataset\")\n",
    "plt.show"
   ]
  },
  {
   "cell_type": "markdown",
   "metadata": {},
   "source": [
    "مقایسه (mlp با perceptron)"
   ]
  },
  {
   "cell_type": "code",
   "execution_count": 73,
   "metadata": {},
   "outputs": [],
   "source": [
    "from sklearn.linear_model import Perceptron\n"
   ]
  },
  {
   "cell_type": "code",
   "execution_count": 74,
   "metadata": {},
   "outputs": [
    {
     "data": {
      "text/plain": [
       "0.6333333333333333"
      ]
     },
     "execution_count": 74,
     "metadata": {},
     "output_type": "execute_result"
    }
   ],
   "source": [
    "perceptron= Perceptron(random_state=42)\n",
    "\n",
    "#train the perceptron\n",
    "perceptron.fit(x_train,y_train)\n",
    "\n",
    "#make prediction on the test set\n",
    "y_pred1=perceptron.predict(x_test)\n",
    "\n",
    "#calculate the accuracy\n",
    "accuracy_score(y_test,y_pred1)"
   ]
  }
 ],
 "metadata": {
  "kernelspec": {
   "display_name": "Python 3",
   "language": "python",
   "name": "python3"
  },
  "language_info": {
   "codemirror_mode": {
    "name": "ipython",
    "version": 3
   },
   "file_extension": ".py",
   "mimetype": "text/x-python",
   "name": "python",
   "nbconvert_exporter": "python",
   "pygments_lexer": "ipython3",
   "version": "3.12.4"
  }
 },
 "nbformat": 4,
 "nbformat_minor": 2
}
